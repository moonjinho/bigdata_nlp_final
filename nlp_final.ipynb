{
  "nbformat": 4,
  "nbformat_minor": 0,
  "metadata": {
    "colab": {
      "name": "Untitled0.ipynb",
      "provenance": [],
      "toc_visible": true,
      "authorship_tag": "ABX9TyOqOtdmY5NcAp/CysPNp0so",
      "include_colab_link": true
    },
    "kernelspec": {
      "name": "python3",
      "display_name": "Python 3"
    }
  },
  "cells": [
    {
      "cell_type": "markdown",
      "metadata": {
        "id": "view-in-github",
        "colab_type": "text"
      },
      "source": [
        "<a href=\"https://colab.research.google.com/github/moonjinho/bigdata_nlp_final/blob/main/nlp_final.ipynb\" target=\"_parent\"><img src=\"https://colab.research.google.com/assets/colab-badge.svg\" alt=\"Open In Colab\"/></a>"
      ]
    },
    {
      "cell_type": "markdown",
      "metadata": {
        "id": "puthvbFN8rOv"
      },
      "source": [
        "필요한 라이브러리 import 및 데이터 가져오기"
      ]
    },
    {
      "cell_type": "code",
      "metadata": {
        "id": "SKzOf2w6lRbB"
      },
      "source": [
        "import pandas as pd\r\n",
        "import numpy as np\r\n",
        "%matplotlib inline\r\n",
        "import matplotlib.pyplot as plt\r\n",
        "import re\r\n",
        "import urllib.request\r\n",
        "from konlpy.tag import Okt\r\n",
        "from tensorflow.keras.preprocessing.text import Tokenizer\r\n",
        "from tensorflow.keras.preprocessing.sequence import pad_sequences\r\n",
        "\r\n",
        "train_data = pd.read_table('ratings_train.txt')\r\n",
        "test_data = pd.read_csv('data.csv', encoding='CP949')"
      ],
      "execution_count": 1,
      "outputs": []
    },
    {
      "cell_type": "markdown",
      "metadata": {
        "id": "RxRuC0Pq8hGl"
      },
      "source": [
        "테스트 데이터 확인"
      ]
    },
    {
      "cell_type": "code",
      "metadata": {
        "id": "rwW4-qJU71VE",
        "outputId": "fa6b0f57-1513-4cd3-c5e1-21e7209bdcec",
        "colab": {
          "base_uri": "https://localhost:8080/"
        }
      },
      "source": [
        "print('훈련용 리뷰 개수 :',len(train_data))\r\n",
        "print('테스트용 리뷰 개수 : ', len(test_data))"
      ],
      "execution_count": 2,
      "outputs": [
        {
          "output_type": "stream",
          "text": [
            "훈련용 리뷰 개수 : 150000\n",
            "테스트용 리뷰 개수 :  11187\n"
          ],
          "name": "stdout"
        }
      ]
    },
    {
      "cell_type": "markdown",
      "metadata": {
        "id": "d9FjlqvS9avC"
      },
      "source": [
        "훈련용 데이터 전처리"
      ]
    },
    {
      "cell_type": "code",
      "metadata": {
        "id": "iE5wOPk49eEj",
        "outputId": "563527a7-4cd9-4b76-8d37-c61ec0076459",
        "colab": {
          "base_uri": "https://localhost:8080/"
        }
      },
      "source": [
        "train_data.drop_duplicates(subset=['document'], inplace=True)                         # Sentence 열에서 중복인 내용이 있다면 중복 제거\r\n",
        "train_data['document'] = train_data['document'].str.replace(\"[^ㄱ-ㅎㅏ-ㅣ가-힣 ]\",\"\") # 정규 표현식 수행\r\n",
        "train_data['document'].replace('', np.nan, inplace=True)                              # 공백은 Null 값으로 변경\r\n",
        "train_data = train_data.dropna(how = 'any')                                           # Null 값 제거\r\n",
        "print('(훈련용) 데이터 전처리 후, 리뷰 갯수 : ', len(train_data))    "
      ],
      "execution_count": 3,
      "outputs": [
        {
          "output_type": "stream",
          "text": [
            "(훈련용) 데이터 전처리 후, 리뷰 갯수 :  145791\n"
          ],
          "name": "stdout"
        }
      ]
    },
    {
      "cell_type": "markdown",
      "metadata": {
        "id": "N7C1O85jA3DA"
      },
      "source": [
        "테스트용 데이터 전처리"
      ]
    },
    {
      "cell_type": "code",
      "metadata": {
        "id": "bdwCiR-oAzr4",
        "outputId": "60dc0dc7-9466-4d4b-c6a7-e846ffc12ca8",
        "colab": {
          "base_uri": "https://localhost:8080/"
        }
      },
      "source": [
        "test_data.drop_duplicates(subset = ['Sentence'], inplace=True)                      # Sentence 열에서 중복인 내용이 있다면 중복 제거\r\n",
        "test_data['Sentence'] = test_data['Sentence'].str.replace(\"[^ㄱ-ㅎㅏ-ㅣ가-힣 ]\",\"\") # 정규 표현식 수행\r\n",
        "test_data['Sentence'].replace('', np.nan, inplace=True)                             # 공백은 Null 값으로 변경\r\n",
        "test_data = test_data.dropna(how='any')                                             # Null 값 제거\r\n",
        "print('전처리 후 테스트용 샘플의 개수 :',len(test_data))"
      ],
      "execution_count": 4,
      "outputs": [
        {
          "output_type": "stream",
          "text": [
            "전처리 후 테스트용 샘플의 개수 : 10886\n"
          ],
          "name": "stdout"
        }
      ]
    }
  ]
}