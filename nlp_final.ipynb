{
  "nbformat": 4,
  "nbformat_minor": 0,
  "metadata": {
    "colab": {
      "name": "Untitled0.ipynb",
      "provenance": [],
      "toc_visible": true,
      "authorship_tag": "ABX9TyN9ni0HX0sdapl1QCKqfnGn",
      "include_colab_link": true
    },
    "kernelspec": {
      "name": "python3",
      "display_name": "Python 3"
    },
    "accelerator": "GPU"
  },
  "cells": [
    {
      "cell_type": "markdown",
      "metadata": {
        "id": "view-in-github",
        "colab_type": "text"
      },
      "source": [
        "<a href=\"https://colab.research.google.com/github/moonjinho/bigdata_nlp_final/blob/main/nlp_final.ipynb\" target=\"_parent\"><img src=\"https://colab.research.google.com/assets/colab-badge.svg\" alt=\"Open In Colab\"/></a>"
      ]
    },
    {
      "cell_type": "code",
      "metadata": {
        "id": "SKzOf2w6lRbB",
        "outputId": "2cce5f65-73da-484f-9957-c4eeff33591b",
        "colab": {
          "base_uri": "https://localhost:8080/"
        }
      },
      "source": [
        "import pandas as pd\r\n",
        "import numpy as np\r\n",
        "%matplotlib inline\r\n",
        "import matplotlib.pyplot as plt\r\n",
        "import re\r\n",
        "from tensorflow.keras.preprocessing.text import Tokenizer\r\n",
        "from tensorflow.keras.preprocessing.sequence import pad_sequences\r\n",
        "\r\n",
        "train_data = pd.read_table('ratings_train.txt')\r\n",
        "\r\n",
        "print(train_data)"
      ],
      "execution_count": 2,
      "outputs": [
        {
          "output_type": "stream",
          "text": [
            "              id                                           document  label\n",
            "0        9976970                                아 더빙.. 진짜 짜증나네요 목소리      0\n",
            "1        3819312                  흠...포스터보고 초딩영화줄....오버연기조차 가볍지 않구나      1\n",
            "2       10265843                                  너무재밓었다그래서보는것을추천한다      0\n",
            "3        9045019                      교도소 이야기구먼 ..솔직히 재미는 없다..평점 조정      0\n",
            "4        6483659  사이몬페그의 익살스런 연기가 돋보였던 영화!스파이더맨에서 늙어보이기만 했던 커스틴 ...      1\n",
            "...          ...                                                ...    ...\n",
            "149995   6222902                                인간이 문제지.. 소는 뭔죄인가..      0\n",
            "149996   8549745                                      평점이 너무 낮아서...      1\n",
            "149997   9311800                    이게 뭐요? 한국인은 거들먹거리고 필리핀 혼혈은 착하다?      0\n",
            "149998   2376369                        청춘 영화의 최고봉.방황과 우울했던 날들의 자화상      1\n",
            "149999   9619869                           한국 영화 최초로 수간하는 내용이 담긴 영화      0\n",
            "\n",
            "[150000 rows x 3 columns]\n"
          ],
          "name": "stdout"
        }
      ]
    }
  ]
}